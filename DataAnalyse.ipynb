{
 "cells": [
  {
   "cell_type": "code",
   "execution_count": 3,
   "metadata": {},
   "outputs": [
    {
     "name": "stdout",
     "output_type": "stream",
     "text": [
      "股票ID:sz.000333\n",
      "Linear Regression - 均方误差 (MSE): 5.029284344843997e-28\n",
      "Decision Tree Regressor - 均方误差 (MSE): 0.0\n",
      "Random Forest Regressor - 均方误差 (MSE): 0.0\n",
      "Support Vector Regressor - 均方误差 (MSE): 0.1775236344622928\n"
     ]
    },
    {
     "name": "stderr",
     "output_type": "stream",
     "text": [
      "d:\\program files (x86)\\lib\\site-packages\\ipykernel_launcher.py:91: SettingWithCopyWarning: \n",
      "A value is trying to be set on a copy of a slice from a DataFrame.\n",
      "Try using .loc[row_indexer,col_indexer] = value instead\n",
      "\n",
      "See the caveats in the documentation: https://pandas.pydata.org/pandas-docs/stable/user_guide/indexing.html#returning-a-view-versus-a-copy\n",
      "d:\\program files (x86)\\lib\\site-packages\\ipykernel_launcher.py:92: SettingWithCopyWarning: \n",
      "A value is trying to be set on a copy of a slice from a DataFrame\n",
      "\n",
      "See the caveats in the documentation: https://pandas.pydata.org/pandas-docs/stable/user_guide/indexing.html#returning-a-view-versus-a-copy\n"
     ]
    },
    {
     "name": "stdout",
     "output_type": "stream",
     "text": [
      "K-Nearest Neighbors Regressor - 均方误差 (MSE): 0.19000000000000003\n",
      "股票ID:sh.600887\n",
      "Linear Regression - 均方误差 (MSE): 8.036058524766043e-29\n",
      "Decision Tree Regressor - 均方误差 (MSE): 0.0\n",
      "Random Forest Regressor - 均方误差 (MSE): 0.0\n",
      "Support Vector Regressor - 均方误差 (MSE): 0.1618620183371709\n",
      "K-Nearest Neighbors Regressor - 均方误差 (MSE): 0.19037288135593222\n"
     ]
    },
    {
     "name": "stderr",
     "output_type": "stream",
     "text": [
      "d:\\program files (x86)\\lib\\site-packages\\ipykernel_launcher.py:91: SettingWithCopyWarning: \n",
      "A value is trying to be set on a copy of a slice from a DataFrame.\n",
      "Try using .loc[row_indexer,col_indexer] = value instead\n",
      "\n",
      "See the caveats in the documentation: https://pandas.pydata.org/pandas-docs/stable/user_guide/indexing.html#returning-a-view-versus-a-copy\n",
      "d:\\program files (x86)\\lib\\site-packages\\ipykernel_launcher.py:92: SettingWithCopyWarning: \n",
      "A value is trying to be set on a copy of a slice from a DataFrame\n",
      "\n",
      "See the caveats in the documentation: https://pandas.pydata.org/pandas-docs/stable/user_guide/indexing.html#returning-a-view-versus-a-copy\n"
     ]
    },
    {
     "name": "stdout",
     "output_type": "stream",
     "text": [
      "股票ID:sz.000651\n",
      "Linear Regression - 均方误差 (MSE): 9.673231280910311e-29\n",
      "Decision Tree Regressor - 均方误差 (MSE): 0.0\n",
      "Random Forest Regressor - 均方误差 (MSE): 0.0\n",
      "Support Vector Regressor - 均方误差 (MSE): 0.18329237847809887\n"
     ]
    },
    {
     "name": "stderr",
     "output_type": "stream",
     "text": [
      "d:\\program files (x86)\\lib\\site-packages\\ipykernel_launcher.py:91: SettingWithCopyWarning: \n",
      "A value is trying to be set on a copy of a slice from a DataFrame.\n",
      "Try using .loc[row_indexer,col_indexer] = value instead\n",
      "\n",
      "See the caveats in the documentation: https://pandas.pydata.org/pandas-docs/stable/user_guide/indexing.html#returning-a-view-versus-a-copy\n",
      "d:\\program files (x86)\\lib\\site-packages\\ipykernel_launcher.py:92: SettingWithCopyWarning: \n",
      "A value is trying to be set on a copy of a slice from a DataFrame\n",
      "\n",
      "See the caveats in the documentation: https://pandas.pydata.org/pandas-docs/stable/user_guide/indexing.html#returning-a-view-versus-a-copy\n"
     ]
    },
    {
     "name": "stdout",
     "output_type": "stream",
     "text": [
      "K-Nearest Neighbors Regressor - 均方误差 (MSE): 0.1933783783783784\n",
      "股票ID:sz.002594\n",
      "Linear Regression - 均方误差 (MSE): 1.655216839757269e-28\n",
      "Decision Tree Regressor - 均方误差 (MSE): 0.0\n",
      "Random Forest Regressor - 均方误差 (MSE): 0.0\n"
     ]
    },
    {
     "name": "stderr",
     "output_type": "stream",
     "text": [
      "d:\\program files (x86)\\lib\\site-packages\\ipykernel_launcher.py:91: SettingWithCopyWarning: \n",
      "A value is trying to be set on a copy of a slice from a DataFrame.\n",
      "Try using .loc[row_indexer,col_indexer] = value instead\n",
      "\n",
      "See the caveats in the documentation: https://pandas.pydata.org/pandas-docs/stable/user_guide/indexing.html#returning-a-view-versus-a-copy\n",
      "d:\\program files (x86)\\lib\\site-packages\\ipykernel_launcher.py:92: SettingWithCopyWarning: \n",
      "A value is trying to be set on a copy of a slice from a DataFrame\n",
      "\n",
      "See the caveats in the documentation: https://pandas.pydata.org/pandas-docs/stable/user_guide/indexing.html#returning-a-view-versus-a-copy\n"
     ]
    },
    {
     "name": "stdout",
     "output_type": "stream",
     "text": [
      "Support Vector Regressor - 均方误差 (MSE): 0.22079007173435772\n",
      "K-Nearest Neighbors Regressor - 均方误差 (MSE): 0.22891891891891894\n"
     ]
    }
   ],
   "source": [
    "from __future__ import (absolute_import, division, print_function,\n",
    "                        unicode_literals)\n",
    "import datetime  # For datetime objects\n",
    "import os.path  # To manage paths\n",
    "import sys  # To find out the script name (in argv[0])\n",
    "import pyfolio as pf\n",
    "import datetime  # For datetime objects\n",
    "import os.path  # To manage paths\n",
    "import sys  # To find out the script name (in argv[0])\n",
    "import baostock as bs\n",
    "import pandas as pd\n",
    "import datetime\n",
    "from IPython.core.display import HTML\n",
    "from backtrader_plotting import Bokeh\n",
    "\n",
    "from sklearn.model_selection import train_test_split\n",
    "from sklearn.linear_model import LinearRegression\n",
    "from sklearn.tree import DecisionTreeRegressor\n",
    "from sklearn.ensemble import RandomForestRegressor\n",
    "from sklearn.svm import SVR\n",
    "from sklearn.neighbors import KNeighborsRegressor\n",
    "from sklearn.metrics import mean_squared_error\n",
    "# Import the backtrader platform\n",
    "import backtrader as bt\n",
    "\n",
    "\n",
    "def print_top_conv(stock_id, topN=10):\n",
    "    file_name = './data/'+stock_id+'_day_k_data.csv'\n",
    "    try:\n",
    "        df = pd.read_csv(file_name,\n",
    "                                    header=0,\n",
    "                                    parse_dates=True,\n",
    "                                    index_col=0)\n",
    "        \n",
    "\n",
    "        # 计算5日内平均增长率\n",
    "        df['5_day_mean_growth'] = df['close'].pct_change().shift(1).rolling(window=5).mean()\n",
    "\n",
    "        # 计算5日内最大增长率\n",
    "        df['5_day_max_growth'] = df['close'].pct_change().shift(1).rolling(window=5).max()\n",
    "\n",
    "        # 计算5日内最小增长率\n",
    "        df['5_day_min_growth'] = df['close'].pct_change().shift(1).rolling(window=5).min()\n",
    "\n",
    "        # 计算5日内价格方差\n",
    "        df['5_day_price_variance'] = df['close'].shift(1).rolling(window=5).var()\n",
    "        # 计算5日内价格增长率方差\n",
    "        df['5_day_price_variance'] = df['close'].pct_change().shift(1).rolling(window=5).var()\n",
    "        # 计算5日内成交价的4次方导数\n",
    "        df['5-Day Price 4th Derivative'] = df['close'].shift(1).diff(periods=4)\n",
    "\n",
    "        # 计算5日内价格与成交量的乘积\n",
    "        df['5-Day Price x Volume'] = df['close'] * df['volume']\n",
    "\n",
    "        # 计算3日后价格是否增长超过3%，生成输出信号\n",
    "        df['Signal'] = (df['close'].shift(-3) / df['close'] > 1.03).astype(int)\n",
    "        \n",
    "                # 计算每个部分的长度\n",
    "        total_length = len(df)\n",
    "        part_length = total_length // 3  # 三个部分的长度\n",
    "        df_part1 = df.iloc[:part_length]\n",
    "        df_part2 = df.iloc[part_length:2*part_length]\n",
    "        df_part3 = df.iloc[2*part_length:]\n",
    "        df_partAll = df\n",
    "\n",
    "        # 计算每个部分的相关性矩阵\n",
    "        correlation_matrix1 = df_part1.drop(['tradestatus', 'isST'], axis=1).corr(method='kendall')\n",
    "        correlation_matrix2 = df_part2.drop(['tradestatus', 'isST'], axis=1).corr(method='kendall')\n",
    "        correlation_matrix3 = df_part3.drop(['tradestatus', 'isST'], axis=1).corr(method='kendall')\n",
    "        correlation_matrixAll = df_partAll.drop(['tradestatus', 'isST'], axis=1).corr(method='kendall')\n",
    "        # 找到与'Signal'列相关性系数最高的5项的列名\n",
    "        top_feature_names1 = correlation_matrix1['Signal'].sort_values(ascending=False).head(topN)\n",
    "\n",
    "        # 打印相关性系数最高的5项的列名\n",
    "        print(f'股票ID:{stock_id}')\n",
    "        #for feature, correlation in top_feature_names1.items():\n",
    "            #print(f'特征1: {feature}, 相关性系数: {correlation}')\n",
    "        top_feature_names2 = correlation_matrix2['Signal'].sort_values(ascending=False).head(topN)\n",
    "\n",
    "        # 打印相关性系数最高的5项的列名\n",
    "        #for feature, correlation in top_feature_names2.items():\n",
    "            #print(f'特征2: {feature}, 相关性系数2: {correlation}')\n",
    "        top_feature_names3 = correlation_matrix3['Signal'].sort_values(ascending=False).head(topN)\n",
    "\n",
    "        # 打印相关性系数最高的5项的列名\n",
    "        #for feature, correlation in top_feature_names3.items():\n",
    "            #print(f'特征3: {feature}, 相关性系数3: {correlation}')\n",
    "\n",
    "        selected_features  = correlation_matrixAll['Signal'].sort_values(ascending=False).head(5).index\n",
    "        X = df[selected_features]\n",
    "        X['Signal'] = df['Signal']\n",
    "        X.dropna(inplace=True)\n",
    "        y = X['Signal']\n",
    "        X_train, X_test, y_train, y_test = train_test_split(X, y, test_size=0.2, random_state=42)\n",
    "        models = {\n",
    "            'Linear Regression': LinearRegression(),\n",
    "            'Decision Tree Regressor': DecisionTreeRegressor(),\n",
    "            'Random Forest Regressor': RandomForestRegressor(),\n",
    "            'Support Vector Regressor': SVR(),\n",
    "            'K-Nearest Neighbors Regressor': KNeighborsRegressor()\n",
    "        }\n",
    "\n",
    "        # 训练模型并评估性能\n",
    "        for model_name, model in models.items():\n",
    "            model.fit(X_train, y_train)\n",
    "            y_pred = model.predict(X_test)\n",
    "            mse = mean_squared_error(y_test, y_pred)\n",
    "            print(f'{model_name} - 均方误差 (MSE): {mse}')\n",
    "    except FileNotFoundError:\n",
    "        # 处理文件不存在的异常\n",
    "        print(\"文件不存在，无法读取数据\")\n",
    "print_top_conv('sz.000333')\n",
    "print_top_conv('sh.600887')\n",
    "print_top_conv('sz.000651')\n",
    "print_top_conv('sz.002594')"
   ]
  },
  {
   "cell_type": "code",
   "execution_count": 29,
   "metadata": {},
   "outputs": [],
   "source": []
  },
  {
   "cell_type": "code",
   "execution_count": 4,
   "metadata": {},
   "outputs": [
    {
     "ename": "NameError",
     "evalue": "name 'correlation_matrix' is not defined",
     "output_type": "error",
     "traceback": [
      "\u001b[1;31m---------------------------------------------------------------------------\u001b[0m",
      "\u001b[1;31mNameError\u001b[0m                                 Traceback (most recent call last)",
      "\u001b[1;32m~\\AppData\\Local\\Temp\\ipykernel_12616\\3610043888.py\u001b[0m in \u001b[0;36m<module>\u001b[1;34m\u001b[0m\n\u001b[0;32m      3\u001b[0m \u001b[1;32mimport\u001b[0m \u001b[0mseaborn\u001b[0m \u001b[1;32mas\u001b[0m \u001b[0msns\u001b[0m\u001b[1;33m\u001b[0m\u001b[0m\n\u001b[0;32m      4\u001b[0m \u001b[0mplt\u001b[0m\u001b[1;33m.\u001b[0m\u001b[0mfigure\u001b[0m\u001b[1;33m(\u001b[0m\u001b[0mfigsize\u001b[0m\u001b[1;33m=\u001b[0m\u001b[1;33m(\u001b[0m\u001b[1;36m30\u001b[0m\u001b[1;33m,\u001b[0m \u001b[1;36m30\u001b[0m\u001b[1;33m)\u001b[0m\u001b[1;33m,\u001b[0m\u001b[0mdpi\u001b[0m\u001b[1;33m=\u001b[0m\u001b[1;36m250\u001b[0m\u001b[1;33m)\u001b[0m\u001b[1;33m\u001b[0m\u001b[0m\n\u001b[1;32m----> 5\u001b[1;33m \u001b[0msns\u001b[0m\u001b[1;33m.\u001b[0m\u001b[0mheatmap\u001b[0m\u001b[1;33m(\u001b[0m\u001b[0mcorrelation_matrix\u001b[0m\u001b[1;33m,\u001b[0m \u001b[0msquare\u001b[0m\u001b[1;33m=\u001b[0m\u001b[1;32mTrue\u001b[0m\u001b[1;33m,\u001b[0m \u001b[0mlinewidths\u001b[0m\u001b[1;33m=\u001b[0m\u001b[1;36m.5\u001b[0m\u001b[1;33m,\u001b[0m \u001b[0mannot\u001b[0m\u001b[1;33m=\u001b[0m\u001b[1;32mTrue\u001b[0m\u001b[1;33m)\u001b[0m\u001b[1;33m\u001b[0m\u001b[0m\n\u001b[0m\u001b[0;32m      6\u001b[0m \u001b[0mplt\u001b[0m\u001b[1;33m.\u001b[0m\u001b[0msavefig\u001b[0m\u001b[1;33m(\u001b[0m\u001b[1;34m'./Image.png'\u001b[0m\u001b[1;33m)\u001b[0m\u001b[1;33m\u001b[0m\u001b[0m\n",
      "\u001b[1;31mNameError\u001b[0m: name 'correlation_matrix' is not defined"
     ]
    },
    {
     "data": {
      "text/plain": [
       "<Figure size 7500x7500 with 0 Axes>"
      ]
     },
     "metadata": {},
     "output_type": "display_data"
    }
   ],
   "source": [
    "import numpy as np\n",
    "from matplotlib import pyplot as plt\n",
    "import seaborn as sns\n",
    "plt.figure(figsize=(30, 30),dpi=250)\n",
    "sns.heatmap(correlation_matrix, square=True, linewidths=.5, annot=True)\n",
    "plt.savefig('./Image.png')"
   ]
  },
  {
   "cell_type": "code",
   "execution_count": 40,
   "metadata": {},
   "outputs": [
    {
     "name": "stdout",
     "output_type": "stream",
     "text": [
      "['Signal', 'volume', 'turn', 'amount', '5-Day Price x Volume', '5_day_price_variance', 'high', 'open', 'close', 'preclose']\n"
     ]
    }
   ],
   "source": [
    "# 找到与'Signal'列相关性系数最高的5项的列名\n",
    "top_feature_names = correlation_matrix['Signal'].sort_values(ascending=False).head(10).index.tolist()\n",
    "\n",
    "# 打印相关性系数最高的5项的列名\n",
    "print(top_feature_names)"
   ]
  },
  {
   "cell_type": "code",
   "execution_count": 7,
   "metadata": {},
   "outputs": [],
   "source": [
    "df2 = pd.read_csv('./data/sz.002373_day_k_data.csv',\n",
    "                            header=0,\n",
    "                            parse_dates=True,\n",
    "                            index_col=0)"
   ]
  },
  {
   "cell_type": "code",
   "execution_count": 12,
   "metadata": {},
   "outputs": [
    {
     "data": {
      "text/plain": [
       "date\n",
       "2017-01-03         NaN\n",
       "2017-01-04    0.002896\n",
       "2017-01-05    0.017329\n",
       "2017-01-06    0.007807\n",
       "2017-01-09    0.003521\n",
       "                ...   \n",
       "2023-02-07   -0.013876\n",
       "2023-02-08    0.011257\n",
       "2023-02-09   -0.025974\n",
       "2023-02-10    0.023810\n",
       "2023-02-13   -0.011163\n",
       "Name: open, Length: 1484, dtype: float64"
      ]
     },
     "execution_count": 12,
     "metadata": {},
     "output_type": "execute_result"
    }
   ],
   "source": [
    "df2['open'].pct_change()"
   ]
  },
  {
   "cell_type": "code",
   "execution_count": 13,
   "metadata": {},
   "outputs": [
    {
     "data": {
      "text/plain": [
       "date\n",
       "2017-01-03         NaN\n",
       "2017-01-04         NaN\n",
       "2017-01-05    0.002896\n",
       "2017-01-06    0.017329\n",
       "2017-01-09    0.007807\n",
       "                ...   \n",
       "2023-02-07    0.021739\n",
       "2023-02-08   -0.013876\n",
       "2023-02-09    0.011257\n",
       "2023-02-10   -0.025974\n",
       "2023-02-13    0.023810\n",
       "Name: open, Length: 1484, dtype: float64"
      ]
     },
     "execution_count": 13,
     "metadata": {},
     "output_type": "execute_result"
    }
   ],
   "source": [
    "df2['open'].pct_change().shift(1)"
   ]
  },
  {
   "cell_type": "code",
   "execution_count": null,
   "metadata": {},
   "outputs": [],
   "source": []
  }
 ],
 "metadata": {
  "kernelspec": {
   "display_name": "Python 3 (ipykernel)",
   "language": "python",
   "name": "python3"
  },
  "language_info": {
   "codemirror_mode": {
    "name": "ipython",
    "version": 3
   },
   "file_extension": ".py",
   "mimetype": "text/x-python",
   "name": "python",
   "nbconvert_exporter": "python",
   "pygments_lexer": "ipython3",
   "version": "3.7.0"
  }
 },
 "nbformat": 4,
 "nbformat_minor": 2
}
